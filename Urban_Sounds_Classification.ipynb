{
  "cells": [
    {
      "cell_type": "code",
      "execution_count": 1,
      "metadata": {
        "colab": {
          "base_uri": "https://localhost:8080/"
        },
        "id": "x-i13Uh7bmdL",
        "outputId": "a9c6cb45-b32e-4a17-acfe-eb2205a568b2"
      },
      "outputs": [
        {
          "name": "stderr",
          "output_type": "stream",
          "text": [
            "'wget' is not recognized as an internal or external command,\n",
            "operable program or batch file.\n"
          ]
        }
      ],
      "source": [
        "!wget https://zenodo.org/record/1203745/files/UrbanSound8K.tar.gz"
      ]
    },
    {
      "cell_type": "code",
      "execution_count": 2,
      "metadata": {
        "id": "8126OOEAYdTy"
      },
      "outputs": [],
      "source": [
        "!tar -xf UrbanSound8K.tar.gz"
      ]
    },
    {
      "cell_type": "code",
      "execution_count": 3,
      "metadata": {
        "id": "uyWmw_LiYrNr"
      },
      "outputs": [],
      "source": [
        "#Imports\n",
        "import os\n",
        "import random\n",
        "import pickle\n",
        "\n",
        "import pandas as pd\n",
        "import numpy as np\n",
        "import matplotlib.pyplot as plt\n",
        "\n",
        "import librosa\n",
        "import librosa.display\n",
        "import cv2 as cv\n",
        "import tensorflow as tf"
      ]
    },
    {
      "cell_type": "markdown",
      "metadata": {
        "id": "5_I1-_AAdYfP"
      },
      "source": [
        "Creating Spectrograms"
      ]
    },
    {
      "cell_type": "code",
      "execution_count": 4,
      "metadata": {
        "id": "YgY_CIJ1ZOzU"
      },
      "outputs": [],
      "source": [
        "def create_spectrogram(y):\n",
        "    spec = librosa.feature.melspectrogram(y=y)\n",
        "    spec_conv = librosa.amplitude_to_db(spec, ref=np.max)\n",
        "    return spec_conv\n",
        "\n",
        "\n",
        "def save_spectrogram(spectrogram, file_name, classid):\n",
        "    if str(classid) not in os.listdir(\"spectrograms\"):\n",
        "        os.mkdir(f\"spectrograms/{classid}\")\n",
        "\n",
        "    save_name = file_name.split(\".\")[0]\n",
        "    \n",
        "    plt.figure()\n",
        "    librosa.display.specshow(spectrogram)\n",
        "    plt.savefig(f\"spectrograms/{classid}/{save_name}.png\", bbox_inches=\"tight\", pad_inches=0)\n",
        "    plt.close()"
      ]
    },
    {
      "cell_type": "code",
      "execution_count": 5,
      "metadata": {
        "colab": {
          "base_uri": "https://localhost:8080/",
          "height": 206
        },
        "id": "bAcfEtU_ZaFc",
        "outputId": "bc4ccb87-ac8d-421b-8d9c-a29f91978d3e"
      },
      "outputs": [
        {
          "data": {
            "text/html": [
              "<div>\n",
              "<style scoped>\n",
              "    .dataframe tbody tr th:only-of-type {\n",
              "        vertical-align: middle;\n",
              "    }\n",
              "\n",
              "    .dataframe tbody tr th {\n",
              "        vertical-align: top;\n",
              "    }\n",
              "\n",
              "    .dataframe thead th {\n",
              "        text-align: right;\n",
              "    }\n",
              "</style>\n",
              "<table border=\"1\" class=\"dataframe\">\n",
              "  <thead>\n",
              "    <tr style=\"text-align: right;\">\n",
              "      <th></th>\n",
              "      <th>slice_file_name</th>\n",
              "      <th>fsID</th>\n",
              "      <th>start</th>\n",
              "      <th>end</th>\n",
              "      <th>salience</th>\n",
              "      <th>fold</th>\n",
              "      <th>classID</th>\n",
              "      <th>class</th>\n",
              "    </tr>\n",
              "  </thead>\n",
              "  <tbody>\n",
              "    <tr>\n",
              "      <th>0</th>\n",
              "      <td>100032-3-0-0.wav</td>\n",
              "      <td>100032</td>\n",
              "      <td>0.0</td>\n",
              "      <td>0.317551</td>\n",
              "      <td>1</td>\n",
              "      <td>5</td>\n",
              "      <td>3</td>\n",
              "      <td>dog_bark</td>\n",
              "    </tr>\n",
              "    <tr>\n",
              "      <th>1</th>\n",
              "      <td>100263-2-0-117.wav</td>\n",
              "      <td>100263</td>\n",
              "      <td>58.5</td>\n",
              "      <td>62.500000</td>\n",
              "      <td>1</td>\n",
              "      <td>5</td>\n",
              "      <td>2</td>\n",
              "      <td>children_playing</td>\n",
              "    </tr>\n",
              "    <tr>\n",
              "      <th>2</th>\n",
              "      <td>100263-2-0-121.wav</td>\n",
              "      <td>100263</td>\n",
              "      <td>60.5</td>\n",
              "      <td>64.500000</td>\n",
              "      <td>1</td>\n",
              "      <td>5</td>\n",
              "      <td>2</td>\n",
              "      <td>children_playing</td>\n",
              "    </tr>\n",
              "    <tr>\n",
              "      <th>3</th>\n",
              "      <td>100263-2-0-126.wav</td>\n",
              "      <td>100263</td>\n",
              "      <td>63.0</td>\n",
              "      <td>67.000000</td>\n",
              "      <td>1</td>\n",
              "      <td>5</td>\n",
              "      <td>2</td>\n",
              "      <td>children_playing</td>\n",
              "    </tr>\n",
              "    <tr>\n",
              "      <th>4</th>\n",
              "      <td>100263-2-0-137.wav</td>\n",
              "      <td>100263</td>\n",
              "      <td>68.5</td>\n",
              "      <td>72.500000</td>\n",
              "      <td>1</td>\n",
              "      <td>5</td>\n",
              "      <td>2</td>\n",
              "      <td>children_playing</td>\n",
              "    </tr>\n",
              "  </tbody>\n",
              "</table>\n",
              "</div>"
            ],
            "text/plain": [
              "      slice_file_name    fsID  start        end  salience  fold  classID  \\\n",
              "0    100032-3-0-0.wav  100032    0.0   0.317551         1     5        3   \n",
              "1  100263-2-0-117.wav  100263   58.5  62.500000         1     5        2   \n",
              "2  100263-2-0-121.wav  100263   60.5  64.500000         1     5        2   \n",
              "3  100263-2-0-126.wav  100263   63.0  67.000000         1     5        2   \n",
              "4  100263-2-0-137.wav  100263   68.5  72.500000         1     5        2   \n",
              "\n",
              "              class  \n",
              "0          dog_bark  \n",
              "1  children_playing  \n",
              "2  children_playing  \n",
              "3  children_playing  \n",
              "4  children_playing  "
            ]
          },
          "execution_count": 5,
          "metadata": {},
          "output_type": "execute_result"
        }
      ],
      "source": [
        "df = pd.read_csv(\"UrbanSound8K/metadata/UrbanSound8K.csv\")\n",
        "df.head()"
      ]
    },
    {
      "cell_type": "code",
      "execution_count": 6,
      "metadata": {
        "colab": {
          "base_uri": "https://localhost:8080/"
        },
        "id": "2s9OnQ6PZ82V",
        "outputId": "c5c64c69-dfe5-4587-b4a3-d7527b4374be"
      },
      "outputs": [
        {
          "name": "stdout",
          "output_type": "stream",
          "text": [
            "Number: 3556/8732 | Errors: 0"
          ]
        },
        {
          "name": "stderr",
          "output_type": "stream",
          "text": [
            "c:\\Users\\user\\AppData\\Local\\Programs\\Python\\Python310\\lib\\site-packages\\librosa\\util\\decorators.py:88: UserWarning: n_fft=2048 is too small for input signal of length=1323\n",
            "  return f(*args, **kwargs)\n"
          ]
        },
        {
          "name": "stdout",
          "output_type": "stream",
          "text": [
            "Number: 7779/8732 | Errors: 440"
          ]
        }
      ],
      "source": [
        "path_to_folds = \"UrbanSound8K/audio\"\n",
        "\n",
        "if \"spectrograms\" not in os.listdir():\n",
        "    os.mkdir(\"spectrograms\")\n",
        "\n",
        "number_of_files = df.shape[0]\n",
        "number_of_processed = 0\n",
        "number_of_errors = 0\n",
        "\n",
        "\n",
        "with open(\"errors.txt\", \"w\") as error_file:\n",
        "    for index, row in df.iterrows():\n",
        "        try:\n",
        "            file_name = row[\"slice_file_name\"]\n",
        "            fold = row[\"fold\"]\n",
        "            classid = row[\"classID\"]\n",
        "            path_to_file = f\"{path_to_folds}/fold{fold}/{file_name}\"\n",
        "                        \n",
        "            data, sr = librosa.load(path_to_file)\n",
        "            spectrogram = create_spectrogram(data)\n",
        "            save_spectrogram(spectrogram, file_name, classid)\n",
        "            \n",
        "            del data\n",
        "            del sr\n",
        "            del spectrogram\n",
        "            \n",
        "        except Exception as e:\n",
        "            number_of_errors += 1\n",
        "            error_file.write(f\"{number_of_errors}: {e}\\n\")\n",
        "        \n",
        "        finally:\n",
        "            number_of_processed += 1\n",
        "        \n",
        "        print(f\"\\rNumber: {number_of_processed}/{number_of_files} | Errors: {number_of_errors}\", end=\"\")"
      ]
    },
    {
      "cell_type": "markdown",
      "metadata": {
        "id": "n4XWkj0wdfXb"
      },
      "source": [
        "Preprocessing"
      ]
    },
    {
      "cell_type": "code",
      "execution_count": 6,
      "metadata": {
        "colab": {
          "base_uri": "https://localhost:8080/",
          "height": 235
        },
        "id": "2fu3OTLGaHYr",
        "outputId": "1896ab25-60df-43eb-dd57-0fd6ea3c7c4a"
      },
      "outputs": [
        {
          "name": "stdout",
          "output_type": "stream",
          "text": [
            "Processed: 7514 | Erros: 0"
          ]
        }
      ],
      "source": [
        "images = []\n",
        "number_of_errors = 0\n",
        "number_of_processed = 0\n",
        "\n",
        "for classid in os.listdir(\"spectrograms\"):\n",
        "    path_to_class = f\"spectrograms/{classid}\"\n",
        "    for image in os.listdir(path_to_class):\n",
        "        try:\n",
        "            path_to_image = f\"{path_to_class}/{image}\"\n",
        "            \n",
        "            img = cv.imread(path_to_image, 0)\n",
        "            img = cv.resize(img, (128,128))\n",
        "            img = img/255\n",
        "            images.append([img, int(classid)])\n",
        "            number_of_processed += 1\n",
        "\n",
        "        except:\n",
        "            number_of_errors += 1\n",
        "        \n",
        "        print(f\"\\rProcessed: {number_of_processed} | Erros: {number_of_errors}\", end=\"\")"
      ]
    },
    {
      "cell_type": "code",
      "execution_count": 7,
      "metadata": {
        "colab": {
          "base_uri": "https://localhost:8080/"
        },
        "id": "1JlnDYtqaNkU",
        "outputId": "1ccf9f10-0d5c-4cbf-fe07-c7f2d2fca615"
      },
      "outputs": [
        {
          "data": {
            "text/plain": [
              "7514"
            ]
          },
          "execution_count": 7,
          "metadata": {},
          "output_type": "execute_result"
        }
      ],
      "source": [
        "len(images)"
      ]
    },
    {
      "cell_type": "code",
      "execution_count": 8,
      "metadata": {
        "id": "4BA6qlhyaQ13"
      },
      "outputs": [],
      "source": [
        "for _ in range(10):\n",
        "    random.shuffle(images)"
      ]
    },
    {
      "cell_type": "code",
      "execution_count": 9,
      "metadata": {
        "id": "A5DKBRBzaU2q"
      },
      "outputs": [],
      "source": [
        "X = []\n",
        "y = []\n",
        "\n",
        "for image, idx in images:\n",
        "    X.append(image)\n",
        "    y.append(idx)"
      ]
    },
    {
      "cell_type": "code",
      "execution_count": 10,
      "metadata": {
        "id": "0dvXIe-SaYL6"
      },
      "outputs": [],
      "source": [
        "X_train = []\n",
        "y_train = []\n",
        "\n",
        "X_val = []\n",
        "y_val = []\n",
        "\n",
        "X_test = []\n",
        "y_test = []"
      ]
    },
    {
      "cell_type": "code",
      "execution_count": 11,
      "metadata": {
        "id": "5eSd0KM3abLW"
      },
      "outputs": [],
      "source": [
        "X_train = X[:6293]\n",
        "y_train = y[:6293]\n",
        "\n",
        "X_val = X[6293:7079]\n",
        "y_val = y[6293:7079]\n",
        "\n",
        "X_test = X[7079:]\n",
        "y_test = y[7079:]"
      ]
    },
    {
      "cell_type": "code",
      "execution_count": 12,
      "metadata": {
        "colab": {
          "base_uri": "https://localhost:8080/"
        },
        "id": "FjrLqMVnaeg0",
        "outputId": "b8f22f8b-6985-44bd-e2fe-ee03797f1063"
      },
      "outputs": [
        {
          "name": "stdout",
          "output_type": "stream",
          "text": [
            "6293\n",
            "6293\n",
            "786\n",
            "786\n",
            "435\n",
            "435\n"
          ]
        }
      ],
      "source": [
        "print(len(X_train))\n",
        "print(len(y_train))\n",
        "print(len(X_val))\n",
        "print(len(y_val))\n",
        "print(len(X_test))\n",
        "print(len(y_test))"
      ]
    },
    {
      "cell_type": "code",
      "execution_count": 13,
      "metadata": {
        "id": "wGk0RJoHaimU"
      },
      "outputs": [],
      "source": [
        "X_train = np.array(X_train)\n",
        "y_train = np.array(y_train)\n",
        "\n",
        "X_val = np.array(X_val)\n",
        "y_val = np.array(y_val)\n",
        "\n",
        "X_test = np.array(X_test)\n",
        "y_test = np.array(y_test)"
      ]
    },
    {
      "cell_type": "code",
      "execution_count": 14,
      "metadata": {
        "id": "0Y5rVocfc4B5"
      },
      "outputs": [],
      "source": [
        "X_train = X_train.reshape(-1, 128, 128, 1) \n",
        "X_val = X_val.reshape(-1, 128, 128, 1) \n",
        "X_test = X_test.reshape(-1, 128, 128, 1) "
      ]
    },
    {
      "cell_type": "code",
      "execution_count": 15,
      "metadata": {
        "id": "5-Nhdonqc5GC"
      },
      "outputs": [],
      "source": [
        "if \"pickles\" not in os.listdir():\n",
        "    os.mkdir(\"pickles\")\n",
        "\n",
        "with open(\"pickles/X_train.pickle\", \"wb\") as f:\n",
        "  pickle.dump(X_train, f)  \n",
        "with open(\"pickles/y_train.pickle\", \"wb\") as f:\n",
        "  pickle.dump(y_train, f)\n",
        "\n",
        "with open(\"pickles/X_val.pickle\", \"wb\") as f:\n",
        "  pickle.dump(X_val, f)  \n",
        "with open(\"pickles/y_val.pickle\", \"wb\") as f:\n",
        "  pickle.dump(y_val, f)\n",
        "\n",
        "with open(\"pickles/X_test.pickle\", \"wb\") as f:\n",
        "  pickle.dump(X_test, f)  \n",
        "with open(\"pickles/y_test.pickle\", \"wb\") as f:\n",
        "  pickle.dump(y_test, f)"
      ]
    },
    {
      "cell_type": "markdown",
      "metadata": {
        "id": "NZ_CfKx0c9Rc"
      },
      "source": [
        "Model Training"
      ]
    },
    {
      "cell_type": "code",
      "execution_count": 16,
      "metadata": {
        "id": "HHl2orx7c8Kp"
      },
      "outputs": [],
      "source": [
        "# Model\n",
        "model = tf.keras.Sequential()\n",
        "\n",
        "# Feature Extraction\n",
        "model.add(tf.keras.layers.Conv2D(32, kernel_size=(3,3), strides=(2,2), padding=\"same\", input_shape=(128, 128, 1)))\n",
        "model.add(tf.keras.layers.MaxPool2D(pool_size=(2,2), strides=(2,2)))\n",
        "\n",
        "model.add(tf.keras.layers.Conv2D(32, kernel_size=(3,3), strides=(2,2), padding=\"same\", activation=\"relu\"))\n",
        "model.add(tf.keras.layers.MaxPool2D(pool_size=(2,2), strides=(2,2)))\n",
        "model.add(tf.keras.layers.Conv2D(32, kernel_size=(3,3), strides=(2,2), padding=\"same\", activation=\"relu\"))\n",
        "model.add(tf.keras.layers.MaxPool2D(pool_size=(2,2), strides=(2,2)))\n",
        "\n",
        "# Flatten\n",
        "model.add(tf.keras.layers.Flatten())\n",
        "\n",
        "# Classification\n",
        "model.add(tf.keras.layers.Dense(64, activation=\"relu\"))\n",
        "model.add(tf.keras.layers.Dropout(0.5))\n",
        "model.add(tf.keras.layers.Dense(64, activation=\"relu\"))\n",
        "model.add(tf.keras.layers.Dropout(0.5))\n",
        "model.add(tf.keras.layers.Dense(64, activation=\"relu\"))\n",
        "model.add(tf.keras.layers.Dropout(0.5))\n",
        "model.add(tf.keras.layers.Dense(64, activation=\"relu\"))\n",
        "model.add(tf.keras.layers.Dropout(0.5))\n",
        "\n",
        "# Output Layer\n",
        "model.add(tf.keras.layers.Dense(10, activation=\"softmax\"))"
      ]
    },
    {
      "cell_type": "code",
      "execution_count": 17,
      "metadata": {
        "id": "TyHenhiadDCq"
      },
      "outputs": [],
      "source": [
        "model.compile(optimizer='adam', loss=\"sparse_categorical_crossentropy\", metrics=['accuracy'])"
      ]
    },
    {
      "cell_type": "code",
      "execution_count": 18,
      "metadata": {
        "id": "h6HRVKH1dKAL"
      },
      "outputs": [
        {
          "name": "stdout",
          "output_type": "stream",
          "text": [
            "Epoch 1/50\n",
            "197/197 [==============================] - 11s 46ms/step - loss: 2.2514 - accuracy: 0.1349 - val_loss: 2.1236 - val_accuracy: 0.2468\n",
            "Epoch 2/50\n",
            "197/197 [==============================] - 10s 48ms/step - loss: 2.0800 - accuracy: 0.2222 - val_loss: 1.9309 - val_accuracy: 0.3130\n",
            "Epoch 3/50\n",
            "197/197 [==============================] - 10s 49ms/step - loss: 1.9524 - accuracy: 0.2562 - val_loss: 1.7388 - val_accuracy: 0.3359\n",
            "Epoch 4/50\n",
            "197/197 [==============================] - 9s 48ms/step - loss: 1.8130 - accuracy: 0.2879 - val_loss: 1.6581 - val_accuracy: 0.3613\n",
            "Epoch 5/50\n",
            "197/197 [==============================] - 10s 50ms/step - loss: 1.7082 - accuracy: 0.3397 - val_loss: 1.5032 - val_accuracy: 0.4237\n",
            "Epoch 6/50\n",
            "197/197 [==============================] - 10s 51ms/step - loss: 1.6367 - accuracy: 0.3629 - val_loss: 1.5307 - val_accuracy: 0.3677\n",
            "Epoch 7/50\n",
            "197/197 [==============================] - 11s 55ms/step - loss: 1.5630 - accuracy: 0.3950 - val_loss: 1.4074 - val_accuracy: 0.4593\n",
            "Epoch 8/50\n",
            "197/197 [==============================] - 10s 52ms/step - loss: 1.4832 - accuracy: 0.4263 - val_loss: 1.2730 - val_accuracy: 0.5433\n",
            "Epoch 9/50\n",
            "197/197 [==============================] - 10s 52ms/step - loss: 1.4169 - accuracy: 0.4508 - val_loss: 1.2603 - val_accuracy: 0.5458\n",
            "Epoch 10/50\n",
            "197/197 [==============================] - 10s 52ms/step - loss: 1.3490 - accuracy: 0.4912 - val_loss: 1.2943 - val_accuracy: 0.5344\n",
            "Epoch 11/50\n",
            "197/197 [==============================] - 10s 50ms/step - loss: 1.2904 - accuracy: 0.5068 - val_loss: 1.1536 - val_accuracy: 0.5738\n",
            "Epoch 12/50\n",
            "197/197 [==============================] - 10s 50ms/step - loss: 1.2485 - accuracy: 0.5319 - val_loss: 1.1413 - val_accuracy: 0.5865\n",
            "Epoch 13/50\n",
            "197/197 [==============================] - 10s 50ms/step - loss: 1.1966 - accuracy: 0.5439 - val_loss: 1.0366 - val_accuracy: 0.6094\n",
            "Epoch 14/50\n",
            "197/197 [==============================] - 10s 52ms/step - loss: 1.1313 - accuracy: 0.5751 - val_loss: 1.0182 - val_accuracy: 0.6349\n",
            "Epoch 15/50\n",
            "197/197 [==============================] - 10s 50ms/step - loss: 1.1317 - accuracy: 0.5735 - val_loss: 0.9993 - val_accuracy: 0.6285\n",
            "Epoch 16/50\n",
            "197/197 [==============================] - 10s 51ms/step - loss: 1.0649 - accuracy: 0.5900 - val_loss: 0.9779 - val_accuracy: 0.6527\n",
            "Epoch 17/50\n",
            "197/197 [==============================] - 10s 53ms/step - loss: 1.0479 - accuracy: 0.6121 - val_loss: 0.9751 - val_accuracy: 0.6438\n",
            "Epoch 18/50\n",
            "197/197 [==============================] - 10s 52ms/step - loss: 1.0183 - accuracy: 0.6215 - val_loss: 0.9212 - val_accuracy: 0.6667\n",
            "Epoch 19/50\n",
            "197/197 [==============================] - 10s 52ms/step - loss: 1.0207 - accuracy: 0.6280 - val_loss: 0.9831 - val_accuracy: 0.6463\n",
            "Epoch 20/50\n",
            "197/197 [==============================] - 11s 55ms/step - loss: 0.9691 - accuracy: 0.6353 - val_loss: 0.9811 - val_accuracy: 0.6450\n",
            "Epoch 21/50\n",
            "197/197 [==============================] - 26s 131ms/step - loss: 0.9813 - accuracy: 0.6310 - val_loss: 0.9293 - val_accuracy: 0.6743\n",
            "Epoch 22/50\n",
            "197/197 [==============================] - 18s 91ms/step - loss: 0.9042 - accuracy: 0.6590 - val_loss: 0.9368 - val_accuracy: 0.6565\n",
            "Epoch 23/50\n",
            "197/197 [==============================] - 21s 106ms/step - loss: 0.9033 - accuracy: 0.6636 - val_loss: 0.9666 - val_accuracy: 0.6947\n",
            "Epoch 24/50\n",
            "197/197 [==============================] - 15s 78ms/step - loss: 0.8829 - accuracy: 0.6701 - val_loss: 0.8679 - val_accuracy: 0.6832\n",
            "Epoch 25/50\n",
            "197/197 [==============================] - 13s 66ms/step - loss: 0.8506 - accuracy: 0.6806 - val_loss: 0.9099 - val_accuracy: 0.7188\n",
            "Epoch 26/50\n",
            "197/197 [==============================] - 15s 76ms/step - loss: 0.8509 - accuracy: 0.6889 - val_loss: 0.9328 - val_accuracy: 0.6768\n",
            "Epoch 27/50\n",
            "197/197 [==============================] - 14s 70ms/step - loss: 0.8067 - accuracy: 0.6927 - val_loss: 1.0105 - val_accuracy: 0.6972\n",
            "Epoch 28/50\n",
            "197/197 [==============================] - 13s 65ms/step - loss: 0.8142 - accuracy: 0.6901 - val_loss: 0.8663 - val_accuracy: 0.6934\n",
            "Epoch 29/50\n",
            "197/197 [==============================] - 14s 69ms/step - loss: 0.7899 - accuracy: 0.7137 - val_loss: 0.9023 - val_accuracy: 0.7048\n",
            "Epoch 30/50\n",
            "197/197 [==============================] - 14s 69ms/step - loss: 0.7479 - accuracy: 0.7125 - val_loss: 0.9167 - val_accuracy: 0.7074\n",
            "Epoch 31/50\n",
            "197/197 [==============================] - 14s 73ms/step - loss: 0.7822 - accuracy: 0.7090 - val_loss: 0.8825 - val_accuracy: 0.7125\n",
            "Epoch 32/50\n",
            "197/197 [==============================] - 13s 66ms/step - loss: 0.7558 - accuracy: 0.7159 - val_loss: 0.8261 - val_accuracy: 0.7036\n",
            "Epoch 33/50\n",
            "197/197 [==============================] - 13s 64ms/step - loss: 0.7296 - accuracy: 0.7321 - val_loss: 0.9285 - val_accuracy: 0.7061\n",
            "Epoch 34/50\n",
            "197/197 [==============================] - 13s 64ms/step - loss: 0.7201 - accuracy: 0.7319 - val_loss: 0.8724 - val_accuracy: 0.7176\n",
            "Epoch 35/50\n",
            "197/197 [==============================] - 13s 66ms/step - loss: 0.7223 - accuracy: 0.7283 - val_loss: 0.9293 - val_accuracy: 0.7137\n",
            "Epoch 36/50\n",
            "197/197 [==============================] - 13s 64ms/step - loss: 0.6822 - accuracy: 0.7434 - val_loss: 0.9035 - val_accuracy: 0.7316\n",
            "Epoch 37/50\n",
            "197/197 [==============================] - 13s 67ms/step - loss: 0.6983 - accuracy: 0.7307 - val_loss: 0.8826 - val_accuracy: 0.7036\n",
            "Epoch 38/50\n",
            "197/197 [==============================] - 13s 64ms/step - loss: 0.6998 - accuracy: 0.7397 - val_loss: 0.9749 - val_accuracy: 0.7137\n",
            "Epoch 39/50\n",
            "197/197 [==============================] - 13s 64ms/step - loss: 0.6999 - accuracy: 0.7443 - val_loss: 0.9214 - val_accuracy: 0.7316\n",
            "Epoch 40/50\n",
            "197/197 [==============================] - 13s 64ms/step - loss: 0.6830 - accuracy: 0.7440 - val_loss: 0.9416 - val_accuracy: 0.6934\n",
            "Epoch 41/50\n",
            "197/197 [==============================] - 13s 64ms/step - loss: 0.6951 - accuracy: 0.7473 - val_loss: 0.9592 - val_accuracy: 0.7570\n",
            "Epoch 42/50\n",
            "197/197 [==============================] - 13s 65ms/step - loss: 0.6303 - accuracy: 0.7637 - val_loss: 0.9158 - val_accuracy: 0.7354\n",
            "Epoch 43/50\n",
            "197/197 [==============================] - 13s 65ms/step - loss: 0.6522 - accuracy: 0.7535 - val_loss: 0.8945 - val_accuracy: 0.7697\n",
            "Epoch 44/50\n",
            "197/197 [==============================] - 13s 66ms/step - loss: 0.6221 - accuracy: 0.7626 - val_loss: 0.8900 - val_accuracy: 0.7723\n",
            "Epoch 45/50\n",
            "197/197 [==============================] - 13s 68ms/step - loss: 0.6324 - accuracy: 0.7709 - val_loss: 0.8501 - val_accuracy: 0.7634\n",
            "Epoch 46/50\n",
            "197/197 [==============================] - 13s 66ms/step - loss: 0.6642 - accuracy: 0.7594 - val_loss: 0.8169 - val_accuracy: 0.7366\n",
            "Epoch 47/50\n",
            "197/197 [==============================] - 13s 67ms/step - loss: 0.6469 - accuracy: 0.7659 - val_loss: 0.8327 - val_accuracy: 0.7710\n",
            "Epoch 48/50\n",
            "197/197 [==============================] - 13s 66ms/step - loss: 0.6509 - accuracy: 0.7664 - val_loss: 0.8479 - val_accuracy: 0.7328\n",
            "Epoch 49/50\n",
            "197/197 [==============================] - 13s 66ms/step - loss: 0.5780 - accuracy: 0.7744 - val_loss: 0.9652 - val_accuracy: 0.7277\n",
            "Epoch 50/50\n",
            "197/197 [==============================] - 13s 65ms/step - loss: 0.6217 - accuracy: 0.7828 - val_loss: 0.9899 - val_accuracy: 0.7570\n"
          ]
        }
      ],
      "source": [
        "history = model.fit(X_train, y_train, epochs=50, validation_data=(X_val, y_val))"
      ]
    },
    {
      "cell_type": "code",
      "execution_count": 19,
      "metadata": {
        "id": "MA1CKi4NdMG7"
      },
      "outputs": [
        {
          "name": "stdout",
          "output_type": "stream",
          "text": [
            "14/14 [==============================] - 0s 18ms/step - loss: 0.8160 - accuracy: 0.7839\n",
            "Loss: 0.816024899482727 - Accuracy: 0.7839080691337585\n"
          ]
        }
      ],
      "source": [
        "result = model.evaluate(X_test, y_test)\n",
        "print(f\"Loss: {result[0]} - Accuracy: {result[1]}\")"
      ]
    },
    {
      "cell_type": "code",
      "execution_count": 20,
      "metadata": {
        "id": "dmHEIUJQdPjp"
      },
      "outputs": [
        {
          "data": {
            "image/png": "[encoded data removed]",
            "text/plain": [
              "<Figure size 432x288 with 1 Axes>"
            ]
          },
          "metadata": {
            "needs_background": "light"
          },
          "output_type": "display_data"
        }
      ],
      "source": [
        "plt.plot(history.history[\"loss\"], label=\"Train\")\n",
        "plt.plot(history.history[\"val_loss\"], label=\"Validation\")\n",
        "\n",
        "plt.xlabel(\"Epoch\")\n",
        "plt.ylabel(\"Loss\")\n",
        "\n",
        "plt.legend()\n",
        "plt.show()"
      ]
    },
    {
      "cell_type": "code",
      "execution_count": 21,
      "metadata": {
        "id": "IfUKhe4FdSBi"
      },
      "outputs": [
        {
          "data": {
            "image/png": "[encoded data removed]",
            "text/plain": [
              "<Figure size 432x288 with 1 Axes>"
            ]
          },
          "metadata": {
            "needs_background": "light"
          },
          "output_type": "display_data"
        }
      ],
      "source": [
        "plt.plot(history.history[\"accuracy\"], label=\"Train\")\n",
        "plt.plot(history.history[\"val_accuracy\"], label=\"Validation\")\n",
        "\n",
        "plt.xlabel(\"Epoch\")\n",
        "plt.ylabel(\"Accuracy\")\n",
        "\n",
        "plt.legend()\n",
        "plt.show()"
      ]
    }
  ],
  "metadata": {
    "accelerator": "GPU",
    "colab": {
      "collapsed_sections": [],
      "provenance": []
    },
    "gpuClass": "standard",
    "kernelspec": {
      "display_name": "Python 3.10.4 64-bit",
      "language": "python",
      "name": "python3"
    },
    "language_info": {
      "codemirror_mode": {
        "name": "ipython",
        "version": 3
      },
      "file_extension": ".py",
      "mimetype": "text/x-python",
      "name": "python",
      "nbconvert_exporter": "python",
      "pygments_lexer": "ipython3",
      "version": "3.10.4"
    },
    "vscode": {
      "interpreter": {
        "hash": "fb4569285eef3a3450cb62085a5b1e0da4bce0af555edc33dcf29baf3acc1368"
      }
    }
  },
  "nbformat": 4,
  "nbformat_minor": 0
}
